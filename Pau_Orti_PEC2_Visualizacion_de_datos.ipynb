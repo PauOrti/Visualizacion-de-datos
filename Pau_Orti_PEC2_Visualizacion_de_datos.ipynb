{
  "nbformat": 4,
  "nbformat_minor": 0,
  "metadata": {
    "colab": {
      "name": "Pau_Orti_PEC2_Visualizacion de datos.ipynb",
      "provenance": [],
      "collapsed_sections": []
    },
    "kernelspec": {
      "name": "python3",
      "display_name": "Python 3"
    },
    "language_info": {
      "name": "python"
    },
    "accelerator": "GPU"
  },
  "cells": [
    {
      "cell_type": "code",
      "source": [
        "import requests\n",
        "import pandas as pd\n",
        "import io\n",
        "import numpy as np\n",
        "#!pip install imgaug==0.2.6\n",
        "#!pip uninstall matplotlib\n",
        "#!pip install matplotlib==3.5\n",
        "import matplotlib.pyplot as plt\n",
        "import seaborn as sns\n",
        "from matplotlib import lines\n",
        "import matplotlib\n",
        "if matplotlib.__version__ != '3.5.0':\n",
        "  !pip install imgaug==0.2.6\n",
        "  !pip install matplotlib==3.5.0\n",
        "else:\n",
        "  pass\n",
        "import waterfall_chart\n",
        "import ast\n",
        "#!pip install waterfallcharts"
      ],
      "metadata": {
        "id": "FrmQoCqSj0Gc"
      },
      "execution_count": 4,
      "outputs": []
    },
    {
      "cell_type": "markdown",
      "source": [
        "## Bar Chart"
      ],
      "metadata": {
        "id": "7vM_1ZywfyNo"
      }
    },
    {
      "cell_type": "code",
      "execution_count": 4,
      "metadata": {
        "id": "U1ZYI8Omfn4n"
      },
      "outputs": [],
      "source": [
        "response = requests.get('https://opendata.ecdc.europa.eu/covid19/nationalcasedeath_eueea_daily_ei/csv/data.csv').content"
      ]
    },
    {
      "cell_type": "code",
      "source": [
        "covid_case_death = pd.read_csv(io.StringIO(response.decode('utf-8')))\n",
        "covid_case_death.head()"
      ],
      "metadata": {
        "colab": {
          "base_uri": "https://localhost:8080/",
          "height": 204
        },
        "id": "mqpKieE-j-vv",
        "outputId": "7e534008-9d41-451e-afc0-53defcf2b5bc"
      },
      "execution_count": 5,
      "outputs": [
        {
          "output_type": "execute_result",
          "data": {
            "text/plain": [
              "      dateRep  day  month  year    cases  deaths countriesAndTerritories  \\\n",
              "0  18/04/2022   18      4  2022   5411.0     3.0                 Austria   \n",
              "1  17/04/2022   17      4  2022   5774.0    10.0                 Austria   \n",
              "2  16/04/2022   16      4  2022   7811.0     8.0                 Austria   \n",
              "3  15/04/2022   15      4  2022   9202.0    10.0                 Austria   \n",
              "4  14/04/2022   14      4  2022  10345.0    13.0                 Austria   \n",
              "\n",
              "  geoId countryterritoryCode  popData2020 continentExp  \n",
              "0    AT                  AUT      8901064       Europe  \n",
              "1    AT                  AUT      8901064       Europe  \n",
              "2    AT                  AUT      8901064       Europe  \n",
              "3    AT                  AUT      8901064       Europe  \n",
              "4    AT                  AUT      8901064       Europe  "
            ],
            "text/html": [
              "\n",
              "  <div id=\"df-1bba4d20-1b6c-44aa-b0dc-4507ea44c761\">\n",
              "    <div class=\"colab-df-container\">\n",
              "      <div>\n",
              "<style scoped>\n",
              "    .dataframe tbody tr th:only-of-type {\n",
              "        vertical-align: middle;\n",
              "    }\n",
              "\n",
              "    .dataframe tbody tr th {\n",
              "        vertical-align: top;\n",
              "    }\n",
              "\n",
              "    .dataframe thead th {\n",
              "        text-align: right;\n",
              "    }\n",
              "</style>\n",
              "<table border=\"1\" class=\"dataframe\">\n",
              "  <thead>\n",
              "    <tr style=\"text-align: right;\">\n",
              "      <th></th>\n",
              "      <th>dateRep</th>\n",
              "      <th>day</th>\n",
              "      <th>month</th>\n",
              "      <th>year</th>\n",
              "      <th>cases</th>\n",
              "      <th>deaths</th>\n",
              "      <th>countriesAndTerritories</th>\n",
              "      <th>geoId</th>\n",
              "      <th>countryterritoryCode</th>\n",
              "      <th>popData2020</th>\n",
              "      <th>continentExp</th>\n",
              "    </tr>\n",
              "  </thead>\n",
              "  <tbody>\n",
              "    <tr>\n",
              "      <th>0</th>\n",
              "      <td>18/04/2022</td>\n",
              "      <td>18</td>\n",
              "      <td>4</td>\n",
              "      <td>2022</td>\n",
              "      <td>5411.0</td>\n",
              "      <td>3.0</td>\n",
              "      <td>Austria</td>\n",
              "      <td>AT</td>\n",
              "      <td>AUT</td>\n",
              "      <td>8901064</td>\n",
              "      <td>Europe</td>\n",
              "    </tr>\n",
              "    <tr>\n",
              "      <th>1</th>\n",
              "      <td>17/04/2022</td>\n",
              "      <td>17</td>\n",
              "      <td>4</td>\n",
              "      <td>2022</td>\n",
              "      <td>5774.0</td>\n",
              "      <td>10.0</td>\n",
              "      <td>Austria</td>\n",
              "      <td>AT</td>\n",
              "      <td>AUT</td>\n",
              "      <td>8901064</td>\n",
              "      <td>Europe</td>\n",
              "    </tr>\n",
              "    <tr>\n",
              "      <th>2</th>\n",
              "      <td>16/04/2022</td>\n",
              "      <td>16</td>\n",
              "      <td>4</td>\n",
              "      <td>2022</td>\n",
              "      <td>7811.0</td>\n",
              "      <td>8.0</td>\n",
              "      <td>Austria</td>\n",
              "      <td>AT</td>\n",
              "      <td>AUT</td>\n",
              "      <td>8901064</td>\n",
              "      <td>Europe</td>\n",
              "    </tr>\n",
              "    <tr>\n",
              "      <th>3</th>\n",
              "      <td>15/04/2022</td>\n",
              "      <td>15</td>\n",
              "      <td>4</td>\n",
              "      <td>2022</td>\n",
              "      <td>9202.0</td>\n",
              "      <td>10.0</td>\n",
              "      <td>Austria</td>\n",
              "      <td>AT</td>\n",
              "      <td>AUT</td>\n",
              "      <td>8901064</td>\n",
              "      <td>Europe</td>\n",
              "    </tr>\n",
              "    <tr>\n",
              "      <th>4</th>\n",
              "      <td>14/04/2022</td>\n",
              "      <td>14</td>\n",
              "      <td>4</td>\n",
              "      <td>2022</td>\n",
              "      <td>10345.0</td>\n",
              "      <td>13.0</td>\n",
              "      <td>Austria</td>\n",
              "      <td>AT</td>\n",
              "      <td>AUT</td>\n",
              "      <td>8901064</td>\n",
              "      <td>Europe</td>\n",
              "    </tr>\n",
              "  </tbody>\n",
              "</table>\n",
              "</div>\n",
              "      <button class=\"colab-df-convert\" onclick=\"convertToInteractive('df-1bba4d20-1b6c-44aa-b0dc-4507ea44c761')\"\n",
              "              title=\"Convert this dataframe to an interactive table.\"\n",
              "              style=\"display:none;\">\n",
              "        \n",
              "  <svg xmlns=\"http://www.w3.org/2000/svg\" height=\"24px\"viewBox=\"0 0 24 24\"\n",
              "       width=\"24px\">\n",
              "    <path d=\"M0 0h24v24H0V0z\" fill=\"none\"/>\n",
              "    <path d=\"M18.56 5.44l.94 2.06.94-2.06 2.06-.94-2.06-.94-.94-2.06-.94 2.06-2.06.94zm-11 1L8.5 8.5l.94-2.06 2.06-.94-2.06-.94L8.5 2.5l-.94 2.06-2.06.94zm10 10l.94 2.06.94-2.06 2.06-.94-2.06-.94-.94-2.06-.94 2.06-2.06.94z\"/><path d=\"M17.41 7.96l-1.37-1.37c-.4-.4-.92-.59-1.43-.59-.52 0-1.04.2-1.43.59L10.3 9.45l-7.72 7.72c-.78.78-.78 2.05 0 2.83L4 21.41c.39.39.9.59 1.41.59.51 0 1.02-.2 1.41-.59l7.78-7.78 2.81-2.81c.8-.78.8-2.07 0-2.86zM5.41 20L4 18.59l7.72-7.72 1.47 1.35L5.41 20z\"/>\n",
              "  </svg>\n",
              "      </button>\n",
              "      \n",
              "  <style>\n",
              "    .colab-df-container {\n",
              "      display:flex;\n",
              "      flex-wrap:wrap;\n",
              "      gap: 12px;\n",
              "    }\n",
              "\n",
              "    .colab-df-convert {\n",
              "      background-color: #E8F0FE;\n",
              "      border: none;\n",
              "      border-radius: 50%;\n",
              "      cursor: pointer;\n",
              "      display: none;\n",
              "      fill: #1967D2;\n",
              "      height: 32px;\n",
              "      padding: 0 0 0 0;\n",
              "      width: 32px;\n",
              "    }\n",
              "\n",
              "    .colab-df-convert:hover {\n",
              "      background-color: #E2EBFA;\n",
              "      box-shadow: 0px 1px 2px rgba(60, 64, 67, 0.3), 0px 1px 3px 1px rgba(60, 64, 67, 0.15);\n",
              "      fill: #174EA6;\n",
              "    }\n",
              "\n",
              "    [theme=dark] .colab-df-convert {\n",
              "      background-color: #3B4455;\n",
              "      fill: #D2E3FC;\n",
              "    }\n",
              "\n",
              "    [theme=dark] .colab-df-convert:hover {\n",
              "      background-color: #434B5C;\n",
              "      box-shadow: 0px 1px 3px 1px rgba(0, 0, 0, 0.15);\n",
              "      filter: drop-shadow(0px 1px 2px rgba(0, 0, 0, 0.3));\n",
              "      fill: #FFFFFF;\n",
              "    }\n",
              "  </style>\n",
              "\n",
              "      <script>\n",
              "        const buttonEl =\n",
              "          document.querySelector('#df-1bba4d20-1b6c-44aa-b0dc-4507ea44c761 button.colab-df-convert');\n",
              "        buttonEl.style.display =\n",
              "          google.colab.kernel.accessAllowed ? 'block' : 'none';\n",
              "\n",
              "        async function convertToInteractive(key) {\n",
              "          const element = document.querySelector('#df-1bba4d20-1b6c-44aa-b0dc-4507ea44c761');\n",
              "          const dataTable =\n",
              "            await google.colab.kernel.invokeFunction('convertToInteractive',\n",
              "                                                     [key], {});\n",
              "          if (!dataTable) return;\n",
              "\n",
              "          const docLinkHtml = 'Like what you see? Visit the ' +\n",
              "            '<a target=\"_blank\" href=https://colab.research.google.com/notebooks/data_table.ipynb>data table notebook</a>'\n",
              "            + ' to learn more about interactive tables.';\n",
              "          element.innerHTML = '';\n",
              "          dataTable['output_type'] = 'display_data';\n",
              "          await google.colab.output.renderOutput(dataTable, element);\n",
              "          const docLink = document.createElement('div');\n",
              "          docLink.innerHTML = docLinkHtml;\n",
              "          element.appendChild(docLink);\n",
              "        }\n",
              "      </script>\n",
              "    </div>\n",
              "  </div>\n",
              "  "
            ]
          },
          "metadata": {},
          "execution_count": 5
        }
      ]
    },
    {
      "cell_type": "code",
      "source": [
        "total_cases_per_country = (covid_case_death.groupby('countryterritoryCode').sum()['deaths']/1000).round().sort_values(ascending=False)\n",
        "\n",
        "ax = sns.barplot(x=total_cases_per_country.index,y=total_cases_per_country,palette =\"Spectral\")#RdYlGn_r  vlag\n",
        "sns.set(rc={'figure.figsize':(15,8)})\n",
        "\n",
        "\n",
        "ax.set(title='Total Covid Deaths (x1,000)', xlabel=None,ylabel='Deaths (x1,000)')\n",
        "\n",
        "plt.axvline(x=np.argmin((total_cases_per_country-35).abs().tolist()),\n",
        "            color='red')\n",
        "\n",
        "vertical_line = lines.Line2D([], [], color='red', marker='|', linestyle='None',\n",
        "                          markersize=15, markeredgewidth=1.5, label='Mean')\n",
        "\n",
        "plt.legend(handles = [vertical_line])\n",
        "\n",
        "\n",
        "for i in ax.containers:\n",
        "    ax.bar_label(i,)"
      ],
      "metadata": {
        "colab": {
          "base_uri": "https://localhost:8080/",
          "height": 501
        },
        "id": "ZRcDgJeqmWy0",
        "outputId": "92190947-5f35-4f37-9e76-ac6f88968880"
      },
      "execution_count": 8,
      "outputs": [
        {
          "output_type": "display_data",
          "data": {
            "text/plain": [
              "<Figure size 1080x576 with 1 Axes>"
            ],
            "image/png": "[encoded data removed]"
          },
          "metadata": {}
        }
      ]
    },
    {
      "cell_type": "markdown",
      "source": [
        "## Waterfall Chart"
      ],
      "metadata": {
        "id": "Ad750CT_gA_9"
      }
    },
    {
      "cell_type": "code",
      "source": [
        "\n",
        "response = requests.get('https://analisi.transparenciacatalunya.cat/resource/x5sz-niat.json').content\n",
        "\n",
        "population = pd.DataFrame(ast.literal_eval(response.decode('utf-8')))\n",
        "population.sort_values('nom_ens',ascending=False).tail()"
      ],
      "metadata": {
        "colab": {
          "base_uri": "https://localhost:8080/",
          "height": 204
        },
        "id": "t6_hi8nBgJp5",
        "outputId": "7d96344f-6f45-444d-e54f-c50ea8173066"
      },
      "execution_count": 5,
      "outputs": [
        {
          "output_type": "execute_result",
          "data": {
            "text/plain": [
              "       codi_10              nom_ens   any total homes dones\n",
              "70  0800180001  Ajuntament d'Abrera  1993  6041   NaN   NaN\n",
              "71  0800180001  Ajuntament d'Abrera  1992  5726   NaN   NaN\n",
              "72  0800180001  Ajuntament d'Abrera  1991  5464   NaN   NaN\n",
              "73  0800180001  Ajuntament d'Abrera  1990  5238   NaN   NaN\n",
              "65  0800180001  Ajuntament d'Abrera  1999  7728   NaN   NaN"
            ],
            "text/html": [
              "\n",
              "  <div id=\"df-b997e05c-edb1-4296-be81-6dd1517e8979\">\n",
              "    <div class=\"colab-df-container\">\n",
              "      <div>\n",
              "<style scoped>\n",
              "    .dataframe tbody tr th:only-of-type {\n",
              "        vertical-align: middle;\n",
              "    }\n",
              "\n",
              "    .dataframe tbody tr th {\n",
              "        vertical-align: top;\n",
              "    }\n",
              "\n",
              "    .dataframe thead th {\n",
              "        text-align: right;\n",
              "    }\n",
              "</style>\n",
              "<table border=\"1\" class=\"dataframe\">\n",
              "  <thead>\n",
              "    <tr style=\"text-align: right;\">\n",
              "      <th></th>\n",
              "      <th>codi_10</th>\n",
              "      <th>nom_ens</th>\n",
              "      <th>any</th>\n",
              "      <th>total</th>\n",
              "      <th>homes</th>\n",
              "      <th>dones</th>\n",
              "    </tr>\n",
              "  </thead>\n",
              "  <tbody>\n",
              "    <tr>\n",
              "      <th>70</th>\n",
              "      <td>0800180001</td>\n",
              "      <td>Ajuntament d'Abrera</td>\n",
              "      <td>1993</td>\n",
              "      <td>6041</td>\n",
              "      <td>NaN</td>\n",
              "      <td>NaN</td>\n",
              "    </tr>\n",
              "    <tr>\n",
              "      <th>71</th>\n",
              "      <td>0800180001</td>\n",
              "      <td>Ajuntament d'Abrera</td>\n",
              "      <td>1992</td>\n",
              "      <td>5726</td>\n",
              "      <td>NaN</td>\n",
              "      <td>NaN</td>\n",
              "    </tr>\n",
              "    <tr>\n",
              "      <th>72</th>\n",
              "      <td>0800180001</td>\n",
              "      <td>Ajuntament d'Abrera</td>\n",
              "      <td>1991</td>\n",
              "      <td>5464</td>\n",
              "      <td>NaN</td>\n",
              "      <td>NaN</td>\n",
              "    </tr>\n",
              "    <tr>\n",
              "      <th>73</th>\n",
              "      <td>0800180001</td>\n",
              "      <td>Ajuntament d'Abrera</td>\n",
              "      <td>1990</td>\n",
              "      <td>5238</td>\n",
              "      <td>NaN</td>\n",
              "      <td>NaN</td>\n",
              "    </tr>\n",
              "    <tr>\n",
              "      <th>65</th>\n",
              "      <td>0800180001</td>\n",
              "      <td>Ajuntament d'Abrera</td>\n",
              "      <td>1999</td>\n",
              "      <td>7728</td>\n",
              "      <td>NaN</td>\n",
              "      <td>NaN</td>\n",
              "    </tr>\n",
              "  </tbody>\n",
              "</table>\n",
              "</div>\n",
              "      <button class=\"colab-df-convert\" onclick=\"convertToInteractive('df-b997e05c-edb1-4296-be81-6dd1517e8979')\"\n",
              "              title=\"Convert this dataframe to an interactive table.\"\n",
              "              style=\"display:none;\">\n",
              "        \n",
              "  <svg xmlns=\"http://www.w3.org/2000/svg\" height=\"24px\"viewBox=\"0 0 24 24\"\n",
              "       width=\"24px\">\n",
              "    <path d=\"M0 0h24v24H0V0z\" fill=\"none\"/>\n",
              "    <path d=\"M18.56 5.44l.94 2.06.94-2.06 2.06-.94-2.06-.94-.94-2.06-.94 2.06-2.06.94zm-11 1L8.5 8.5l.94-2.06 2.06-.94-2.06-.94L8.5 2.5l-.94 2.06-2.06.94zm10 10l.94 2.06.94-2.06 2.06-.94-2.06-.94-.94-2.06-.94 2.06-2.06.94z\"/><path d=\"M17.41 7.96l-1.37-1.37c-.4-.4-.92-.59-1.43-.59-.52 0-1.04.2-1.43.59L10.3 9.45l-7.72 7.72c-.78.78-.78 2.05 0 2.83L4 21.41c.39.39.9.59 1.41.59.51 0 1.02-.2 1.41-.59l7.78-7.78 2.81-2.81c.8-.78.8-2.07 0-2.86zM5.41 20L4 18.59l7.72-7.72 1.47 1.35L5.41 20z\"/>\n",
              "  </svg>\n",
              "      </button>\n",
              "      \n",
              "  <style>\n",
              "    .colab-df-container {\n",
              "      display:flex;\n",
              "      flex-wrap:wrap;\n",
              "      gap: 12px;\n",
              "    }\n",
              "\n",
              "    .colab-df-convert {\n",
              "      background-color: #E8F0FE;\n",
              "      border: none;\n",
              "      border-radius: 50%;\n",
              "      cursor: pointer;\n",
              "      display: none;\n",
              "      fill: #1967D2;\n",
              "      height: 32px;\n",
              "      padding: 0 0 0 0;\n",
              "      width: 32px;\n",
              "    }\n",
              "\n",
              "    .colab-df-convert:hover {\n",
              "      background-color: #E2EBFA;\n",
              "      box-shadow: 0px 1px 2px rgba(60, 64, 67, 0.3), 0px 1px 3px 1px rgba(60, 64, 67, 0.15);\n",
              "      fill: #174EA6;\n",
              "    }\n",
              "\n",
              "    [theme=dark] .colab-df-convert {\n",
              "      background-color: #3B4455;\n",
              "      fill: #D2E3FC;\n",
              "    }\n",
              "\n",
              "    [theme=dark] .colab-df-convert:hover {\n",
              "      background-color: #434B5C;\n",
              "      box-shadow: 0px 1px 3px 1px rgba(0, 0, 0, 0.15);\n",
              "      filter: drop-shadow(0px 1px 2px rgba(0, 0, 0, 0.3));\n",
              "      fill: #FFFFFF;\n",
              "    }\n",
              "  </style>\n",
              "\n",
              "      <script>\n",
              "        const buttonEl =\n",
              "          document.querySelector('#df-b997e05c-edb1-4296-be81-6dd1517e8979 button.colab-df-convert');\n",
              "        buttonEl.style.display =\n",
              "          google.colab.kernel.accessAllowed ? 'block' : 'none';\n",
              "\n",
              "        async function convertToInteractive(key) {\n",
              "          const element = document.querySelector('#df-b997e05c-edb1-4296-be81-6dd1517e8979');\n",
              "          const dataTable =\n",
              "            await google.colab.kernel.invokeFunction('convertToInteractive',\n",
              "                                                     [key], {});\n",
              "          if (!dataTable) return;\n",
              "\n",
              "          const docLinkHtml = 'Like what you see? Visit the ' +\n",
              "            '<a target=\"_blank\" href=https://colab.research.google.com/notebooks/data_table.ipynb>data table notebook</a>'\n",
              "            + ' to learn more about interactive tables.';\n",
              "          element.innerHTML = '';\n",
              "          dataTable['output_type'] = 'display_data';\n",
              "          await google.colab.output.renderOutput(dataTable, element);\n",
              "          const docLink = document.createElement('div');\n",
              "          docLink.innerHTML = docLinkHtml;\n",
              "          element.appendChild(docLink);\n",
              "        }\n",
              "      </script>\n",
              "    </div>\n",
              "  </div>\n",
              "  "
            ]
          },
          "metadata": {},
          "execution_count": 5
        }
      ]
    },
    {
      "cell_type": "code",
      "source": [
        "#!pip install waterfallcharts\n",
        "\n",
        "pop_bcn = population[population.nom_ens=='Ajuntament de Barcelona'].sort_values('any',ascending=True).tail(10)\n",
        "\n",
        "pop_bcn['any'] = pop_bcn['any']\n",
        "pop_bcn['total'] = pop_bcn['total'].astype('int32')\n",
        "\n",
        "waterfall_chart.plot(pop_bcn['any'], pop_bcn['total'])\n",
        "plt.rcParams[\"figure.figsize\"] = (12,8)\n",
        "plt.title('Barcelona Population Growth 2010 to 2019')\n"
      ],
      "metadata": {
        "colab": {
          "base_uri": "https://localhost:8080/",
          "height": 615
        },
        "id": "Q-v6CRpFrjfG",
        "outputId": "be712172-df89-44c3-8ca8-3d183a8520f1"
      },
      "execution_count": 67,
      "outputs": [
        {
          "output_type": "execute_result",
          "data": {
            "text/plain": [
              "Text(0.5, 1.0, 'Barcelona Population Growth 2010 to 2019')"
            ]
          },
          "metadata": {},
          "execution_count": 67
        },
        {
          "output_type": "display_data",
          "data": {
            "text/plain": [
              "<Figure size 864x576 with 1 Axes>"
            ],
            "image/png": "[encoded data removed]"
          },
          "metadata": {
            "needs_background": "light"
          }
        }
      ]
    },
    {
      "cell_type": "markdown",
      "source": [
        "## Isotype & Unit charts"
      ],
      "metadata": {
        "id": "pNo-eM3WgFHQ"
      }
    }
  ]
}